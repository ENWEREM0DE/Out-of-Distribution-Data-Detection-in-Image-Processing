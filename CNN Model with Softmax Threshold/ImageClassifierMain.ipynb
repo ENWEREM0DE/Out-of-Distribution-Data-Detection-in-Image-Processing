{
 "cells": [
  {
   "cell_type": "code",
   "execution_count": 6,
   "id": "efc8adcf",
   "metadata": {},
   "outputs": [
    {
     "name": "stdout",
     "output_type": "stream",
     "text": [
      "WARNING:tensorflow:6 out of the last 6 calls to <function Model.make_predict_function.<locals>.predict_function at 0x287836700> triggered tf.function retracing. Tracing is expensive and the excessive number of tracings could be due to (1) creating @tf.function repeatedly in a loop, (2) passing tensors with different shapes, (3) passing Python objects instead of tensors. For (1), please define your @tf.function outside of the loop. For (2), @tf.function has reduce_retracing=True option that can avoid unnecessary retracing. For (3), please refer to https://www.tensorflow.org/guide/function#controlling_retracing and https://www.tensorflow.org/api_docs/python/tf/function for  more details.\n",
      "__________STATS__________\n",
      "Values from softmax layer: [[9.5192361e-01 8.2926395e-05 1.1566445e-02 1.5297283e-03 2.9231789e-02\n",
      "  5.1458548e-03 4.2256271e-04 6.8519519e-05 1.2246657e-05 1.6387166e-05]]\n",
      "Highest softmax value: 0.9519236087799072\n",
      "Threshold Softmax Value: 0.85\n",
      "Percentage difference between the Highest and Average Values: 10.50504446029663%\n",
      "\n",
      "__________PREDICTION__________\n",
      "Prediction is Plane \n"
     ]
    },
    {
     "data": {
      "image/png": "[encoded data removed]",
      "text/plain": [
       "<Figure size 432x288 with 1 Axes>"
      ]
     },
     "metadata": {
      "needs_background": "light"
     },
     "output_type": "display_data"
    }
   ],
   "source": [
    "import cv2 as cv\n",
    "import numpy as np\n",
    "import matplotlib.pyplot as plt\n",
    "from tensorflow.python.keras import layers, models\n",
    "\n",
    "model = models.load_model('image_classifier.model')\n",
    "\n",
    "\n",
    "img = cv.imread('mickeyMouse.jpg')\n",
    "\n",
    "img = cv.cvtColor(img, cv.COLOR_BGR2RGB)\n",
    "\n",
    "plt.imshow(img, cmap=plt.cm.binary)\n",
    "\n",
    "prediction = model.predict(np.array([img]) / 255)\n",
    "class_names = ['Plane', 'Car', 'Bird', 'Cat', 'Deer', 'Dog', 'Frog', 'Horse', 'Ship', 'Truck']\n",
    "\n",
    "index = np.argmax(prediction)\n",
    "maxValue = np.max(prediction)\n",
    "meanValue = np.mean(prediction)\n",
    "maxDeviationPercent = (meanValue / maxValue) * 100\n",
    "\n",
    "\n",
    "print('__________STATS__________')\n",
    "print(f\"Values from softmax layer: {prediction}\")\n",
    "print(f\"Highest softmax value: {maxValue}\")\n",
    "print(f\"Threshold Softmax Value: 0.85\")\n",
    "print(f\"Percentage difference between the Highest and Average Values: {maxDeviationPercent}%\")\n",
    "print()\n",
    "\n",
    "print(\"__________PREDICTION__________\")\n",
    "if maxDeviationPercent < 14.5 and maxValue > 0.85:\n",
    "    print(f'Prediction is {class_names[index]} ')\n",
    "else:\n",
    "    print('Image is not recognized by Neural Network')\n",
    "    print(f'Neural network thinks this is a {class_names[index]}')\n"
   ]
  },
  {
   "cell_type": "code",
   "execution_count": null,
   "id": "9f23e3ab",
   "metadata": {},
   "outputs": [],
   "source": []
  },
  {
   "cell_type": "code",
   "execution_count": null,
   "id": "1c9a8251",
   "metadata": {},
   "outputs": [],
   "source": []
  },
  {
   "cell_type": "code",
   "execution_count": null,
   "id": "b28314f4",
   "metadata": {},
   "outputs": [],
   "source": []
  }
 ],
 "metadata": {
  "kernelspec": {
   "display_name": "Python 3",
   "language": "python",
   "name": "python3"
  },
  "language_info": {
   "codemirror_mode": {
    "name": "ipython",
    "version": 3
   },
   "file_extension": ".py",
   "mimetype": "text/x-python",
   "name": "python",
   "nbconvert_exporter": "python",
   "pygments_lexer": "ipython3",
   "version": "3.8.13"
  }
 },
 "nbformat": 4,
 "nbformat_minor": 5
}
