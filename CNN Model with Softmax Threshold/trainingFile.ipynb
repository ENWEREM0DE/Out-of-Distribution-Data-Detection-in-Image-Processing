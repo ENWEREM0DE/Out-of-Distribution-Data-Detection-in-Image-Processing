{
 "cells": [
  {
   "cell_type": "code",
   "execution_count": 3,
   "id": "8337fe75",
   "metadata": {},
   "outputs": [
    {
     "name": "stdout",
     "output_type": "stream",
     "text": [
      "Epoch 1/10\n",
      "1563/1563 [==============================] - 22s 13ms/step - loss: 1.5482 - accuracy: 0.4331 - val_loss: 1.3433 - val_accuracy: 0.5123\n",
      "Epoch 2/10\n",
      "1563/1563 [==============================] - 18s 11ms/step - loss: 1.2029 - accuracy: 0.5715 - val_loss: 1.1168 - val_accuracy: 0.6008\n",
      "Epoch 3/10\n",
      "1563/1563 [==============================] - 18s 11ms/step - loss: 1.0479 - accuracy: 0.6298 - val_loss: 1.0376 - val_accuracy: 0.6325\n",
      "Epoch 4/10\n",
      "1563/1563 [==============================] - 18s 12ms/step - loss: 0.9384 - accuracy: 0.6711 - val_loss: 0.9556 - val_accuracy: 0.6651\n",
      "Epoch 5/10\n",
      "1563/1563 [==============================] - 18s 11ms/step - loss: 0.8604 - accuracy: 0.6980 - val_loss: 0.9556 - val_accuracy: 0.6649\n",
      "Epoch 6/10\n",
      "1563/1563 [==============================] - 18s 11ms/step - loss: 0.8028 - accuracy: 0.7182 - val_loss: 0.8834 - val_accuracy: 0.6913\n",
      "Epoch 7/10\n",
      "1563/1563 [==============================] - 17s 11ms/step - loss: 0.7531 - accuracy: 0.7347 - val_loss: 0.8430 - val_accuracy: 0.7090\n",
      "Epoch 8/10\n",
      "1563/1563 [==============================] - 18s 11ms/step - loss: 0.7126 - accuracy: 0.7503 - val_loss: 0.8768 - val_accuracy: 0.6986\n",
      "Epoch 9/10\n",
      "1563/1563 [==============================] - 18s 11ms/step - loss: 0.6740 - accuracy: 0.7640 - val_loss: 0.8607 - val_accuracy: 0.7076\n",
      "Epoch 10/10\n",
      "1563/1563 [==============================] - 18s 11ms/step - loss: 0.6390 - accuracy: 0.7751 - val_loss: 0.8478 - val_accuracy: 0.7173\n",
      "313/313 [==============================] - 2s 5ms/step - loss: 0.8478 - accuracy: 0.7173\n",
      "Loss: 0.8478240370750427\n",
      "Accuracy: 0.7173000574111938\n",
      "INFO:tensorflow:Assets written to: image_classifier.model/assets\n"
     ]
    }
   ],
   "source": [
    "import cv2 as cv\n",
    "import numpy as np\n",
    "import matplotlib.pyplot as plt\n",
    "import tensorflow as tf\n",
    "from tensorflow.python.keras import layers, models\n",
    "from keras.datasets import cifar10\n",
    "\n",
    "\n",
    "\n",
    "(training_images, training_labels), (testing_images, testing_labels) = cifar10.load_data()\n",
    "training_images, testing_images = training_images / 255, testing_images / 255\n",
    "\n",
    "class_names = ['Plane', 'Car', 'Bird', 'Cat', 'Deer', 'Dog', 'Frog', 'Horse', 'Ship', 'Truck']\n",
    "\n",
    "model = models.Sequential()\n",
    "model.add(layers.Conv2D(32, (3, 3), activation='relu', input_shape=(32, 32, 3)))\n",
    "model.add(layers.MaxPooling2D((2, 2)))\n",
    "model.add(layers.Conv2D(64, (3, 3), activation='relu'))\n",
    "model.add(layers.MaxPooling2D((2, 2)))\n",
    "model.add(layers.Conv2D(64, (3, 3), activation='relu'))\n",
    "model.add(layers.Flatten())\n",
    "model.add(layers.Dense(64, activation='relu'))\n",
    "model.add(layers.Dense(10, activation='softmax'))\n",
    "\n",
    "model.compile(optimizer='adam', loss='sparse_categorical_crossentropy', metrics=['accuracy'])\n",
    "\n",
    "model.fit(training_images, training_labels, epochs=10, validation_data=(testing_images, testing_labels))\n",
    "\n",
    "loss, accuracy = model.evaluate(testing_images, testing_labels)\n",
    "print(f\"Loss: {loss}\")\n",
    "print(f\"Accuracy: {accuracy}\")\n",
    "\n",
    "model.save('image_classifier.model')\n"
   ]
  },
  {
   "cell_type": "code",
   "execution_count": null,
   "id": "306c43e3",
   "metadata": {},
   "outputs": [],
   "source": []
  }
 ],
 "metadata": {
  "kernelspec": {
   "display_name": "Python 3",
   "language": "python",
   "name": "python3"
  },
  "language_info": {
   "codemirror_mode": {
    "name": "ipython",
    "version": 3
   },
   "file_extension": ".py",
   "mimetype": "text/x-python",
   "name": "python",
   "nbconvert_exporter": "python",
   "pygments_lexer": "ipython3",
   "version": "3.8.13"
  }
 },
 "nbformat": 4,
 "nbformat_minor": 5
}
